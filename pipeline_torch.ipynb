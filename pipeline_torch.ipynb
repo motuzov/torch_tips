{
 "cells": [
  {
   "cell_type": "markdown",
   "id": "92e43fac-8f7c-437e-9ee9-7fa7147ce9ce",
   "metadata": {},
   "source": [
    "# https://www.learnpytorch.io/"
   ]
  },
  {
   "cell_type": "code",
   "execution_count": null,
   "id": "35ce72e0-5655-4918-872a-a451dc60b536",
   "metadata": {
    "tags": []
   },
   "outputs": [],
   "source": [
    "import torch"
   ]
  },
  {
   "cell_type": "code",
   "execution_count": null,
   "id": "193372e0-b37a-43fb-ab69-bcdcc85ac440",
   "metadata": {
    "tags": []
   },
   "outputs": [],
   "source": [
    "torch.__version__"
   ]
  },
  {
   "cell_type": "code",
   "execution_count": null,
   "id": "fe5371e2-1f20-42ac-9485-2e2fd20ccca4",
   "metadata": {
    "tags": []
   },
   "outputs": [],
   "source": [
    "torch.cuda.is_available()"
   ]
  },
  {
   "cell_type": "code",
   "execution_count": null,
   "id": "6451b888-d1a3-441b-b357-bb03b491f1c4",
   "metadata": {
    "tags": []
   },
   "outputs": [],
   "source": [
    "torch.cuda.current_device()"
   ]
  },
  {
   "cell_type": "code",
   "execution_count": null,
   "id": "c2f28e20-4efc-4498-8a6f-d6e0ebff3d11",
   "metadata": {
    "tags": []
   },
   "outputs": [],
   "source": [
    "cuda0 = torch.device('cuda:0')"
   ]
  },
  {
   "cell_type": "code",
   "execution_count": null,
   "id": "129d9925-09ba-4ec3-bb08-2a7426342faf",
   "metadata": {
    "tags": []
   },
   "outputs": [],
   "source": [
    "torch.cuda.device_count()"
   ]
  },
  {
   "cell_type": "markdown",
   "id": "f00e365b-c90d-4c02-bc9e-7b01629131bf",
   "metadata": {},
   "source": [
    "# Tensors"
   ]
  },
  {
   "cell_type": "code",
   "execution_count": null,
   "id": "b512f967-e876-4e7d-8692-c553150537bd",
   "metadata": {
    "tags": []
   },
   "outputs": [],
   "source": [
    "t1 = torch.rand(2000, 100)\n",
    "t2 = torch.rand(100, 2000)"
   ]
  },
  {
   "cell_type": "code",
   "execution_count": null,
   "id": "d09bf9c5-1ce7-4387-b938-fca97b808fbd",
   "metadata": {
    "tags": []
   },
   "outputs": [],
   "source": [
    "%%timeit -n 100\n",
    "t1 @ t2"
   ]
  },
  {
   "cell_type": "code",
   "execution_count": null,
   "id": "e4894877-4248-4161-a805-aaca38100e23",
   "metadata": {},
   "outputs": [],
   "source": [
    "t1_ongpu = t1.to(cuda0)\n",
    "t2_ongpu = t2.to(cuda0)"
   ]
  },
  {
   "cell_type": "code",
   "execution_count": null,
   "id": "99c844c2-b6d4-4c11-bb7b-c02929e16728",
   "metadata": {
    "tags": []
   },
   "outputs": [],
   "source": [
    "%%timeit -n 100\n",
    "t1_ongpu @ t2_ongpu"
   ]
  },
  {
   "cell_type": "code",
   "execution_count": null,
   "id": "6af2ad70-fc94-4e3d-99f3-703a4d95beb9",
   "metadata": {
    "tags": []
   },
   "outputs": [],
   "source": [
    "t2_ongpu.device"
   ]
  },
  {
   "cell_type": "code",
   "execution_count": null,
   "id": "0c5827e0-283c-401b-ab23-d91d38f98823",
   "metadata": {
    "tags": []
   },
   "outputs": [],
   "source": [
    "t = t2_ongpu.cpu()"
   ]
  },
  {
   "cell_type": "code",
   "execution_count": null,
   "id": "9675598e-dd62-4c0b-a4e4-63a704c076d3",
   "metadata": {
    "tags": []
   },
   "outputs": [],
   "source": [
    "type(t)"
   ]
  },
  {
   "cell_type": "code",
   "execution_count": null,
   "id": "fb93eaf1-a0d7-43c9-b9f2-13f9ea5d3e68",
   "metadata": {
    "tags": []
   },
   "outputs": [],
   "source": [
    "np_t1 = t.numpy()"
   ]
  },
  {
   "cell_type": "code",
   "execution_count": null,
   "id": "be8ddefd-f58a-4099-a090-6ebcd702a4a8",
   "metadata": {
    "tags": []
   },
   "outputs": [],
   "source": [
    "np_t1"
   ]
  },
  {
   "cell_type": "markdown",
   "id": "645eac64-b0a9-43dc-9de6-45f1b443e859",
   "metadata": {},
   "source": [
    "# Learn Linear Regression"
   ]
  },
  {
   "cell_type": "markdown",
   "id": "89bb790d-aa45-46e7-9fd7-5f4978e87c20",
   "metadata": {},
   "source": [
    "### Model"
   ]
  },
  {
   "cell_type": "code",
   "execution_count": null,
   "id": "9dbcf918-45d7-4660-a8a5-d6fc1afe1d45",
   "metadata": {
    "tags": []
   },
   "outputs": [],
   "source": [
    "import numpy as np\n",
    "import matplotlib.pyplot as plt"
   ]
  },
  {
   "cell_type": "code",
   "execution_count": null,
   "id": "b6abe50b-7e5e-4c22-a0e0-cd3b3b3bb2c2",
   "metadata": {
    "tags": []
   },
   "outputs": [],
   "source": [
    "mu = 0\n",
    "sigma = 10\n",
    "nois = np.random.normal(mu, sigma, 10)"
   ]
  },
  {
   "cell_type": "code",
   "execution_count": null,
   "id": "37aed432-0dfc-4cc9-8b7a-2f608a71998a",
   "metadata": {
    "tags": []
   },
   "outputs": [],
   "source": [
    "x = np.arange(1, 100, 1)\n",
    "b = 3\n",
    "# y_model = np.power(x, 2) + b\n",
    "\n",
    "y_model = 2.4 * x + 7.5  * np.sin(0.4 * x) + b\n",
    "data = {'x': x,\n",
    "        'y_m': y_model,\n",
    "        'y': y_model + np.random.normal(mu, sigma, y_model.size)\n",
    "        #'y': y_model +  np.power(x, 1.25) * np.random.normal(mu, sigma, y_model.size)\n",
    "       }"
   ]
  },
  {
   "cell_type": "code",
   "execution_count": null,
   "id": "bf82d254-58d4-481f-a41a-ff3d6a7a2e8a",
   "metadata": {
    "tags": []
   },
   "outputs": [],
   "source": [
    "# fig, ax = plt.subplots()"
   ]
  },
  {
   "cell_type": "code",
   "execution_count": null,
   "id": "34d98cc4-d7ef-4b36-b52b-facf36147423",
   "metadata": {
    "tags": []
   },
   "outputs": [],
   "source": [
    "plt.plot(x, data['y_m'])\n",
    "plt.scatter(x, data['y'], s=15)\n",
    "plt.show()"
   ]
  },
  {
   "cell_type": "markdown",
   "id": "f9bd21d6-e371-4ce3-b72b-2ff46ae6414a",
   "metadata": {
    "tags": []
   },
   "source": [
    "### Torch Model"
   ]
  },
  {
   "cell_type": "code",
   "execution_count": null,
   "id": "218a698d-ce13-4796-bdac-1db35d4963cb",
   "metadata": {
    "tags": []
   },
   "outputs": [],
   "source": [
    "from torch import nn\n",
    "from torch import from_numpy"
   ]
  },
  {
   "cell_type": "code",
   "execution_count": null,
   "id": "2f66ed19-edc6-4c6d-8e95-2d37be5c2d30",
   "metadata": {
    "tags": []
   },
   "outputs": [],
   "source": [
    "train_split = int(0.7 * len(data['x'])) # 80% of data used for training set, 20% for testing \n",
    "X_train, y_train = data['x'][:train_split], data['y'][:train_split]\n",
    "X_test, y_test = data['x'][train_split:], data['y'][train_split:]"
   ]
  },
  {
   "cell_type": "markdown",
   "id": "27c2d352-308e-4e6a-9a76-79093c1fbca1",
   "metadata": {
    "tags": []
   },
   "source": [
    "### Print Learning data test/trian split"
   ]
  },
  {
   "cell_type": "code",
   "execution_count": null,
   "id": "f11e6d99-c921-4e80-911e-e423a7b12a16",
   "metadata": {
    "tags": []
   },
   "outputs": [],
   "source": [
    "def plot_predictions(train_data=X_train, \n",
    "                     train_labels=y_train, \n",
    "                     test_data=X_test, \n",
    "                     test_labels=y_test, \n",
    "                     predictions=None):\n",
    "    \"\"\"\n",
    "    Plots training data, test data and compares predictions.\n",
    "    \"\"\"\n",
    "    plt.figure(figsize=(10, 7))\n",
    "\n",
    "    # Plot training data in blue\n",
    "    plt.scatter(train_data, train_labels, c=\"b\", s=4, label=\"Training data\")\n",
    "\n",
    "    # Plot test data in green\n",
    "    plt.scatter(test_data, test_labels, c=\"g\", s=4, label=\"Testing data\")\n",
    "\n",
    "    if predictions is not None:\n",
    "    # Plot the predictions in red (predictions were made on the test data)\n",
    "        plt.scatter(test_data, predictions, c=\"r\", s=4, label=\"Predictions\")\n",
    "\n",
    "    # Show the legend\n",
    "    plt.legend(prop={\"size\": 14});"
   ]
  },
  {
   "cell_type": "code",
   "execution_count": null,
   "id": "a5b794cc-186a-4fa0-a2a1-8742705378a3",
   "metadata": {
    "tags": []
   },
   "outputs": [],
   "source": [
    "plot_predictions()"
   ]
  },
  {
   "cell_type": "code",
   "execution_count": null,
   "id": "63888d9d-eb74-4f41-889b-a3685d5787f4",
   "metadata": {
    "tags": []
   },
   "outputs": [],
   "source": [
    "class LinearRegressionModel(nn.Module):\n",
    "    def __init__(self):\n",
    "        super().__init__() \n",
    "        self.weights = nn.Parameter(torch.randn(1, # <- start with random weights (this will get adjusted as the model learns)\n",
    "                                                dtype=torch.float), # <- PyTorch loves float32 by default\n",
    "                                    requires_grad=True) # <- can we update this value with gradient descent?)\n",
    "\n",
    "        self.bias = nn.Parameter(torch.randn(1, # <- start with random bias (this will get adjusted as the model learns)\n",
    "                                            dtype=torch.float), # <- PyTorch loves float32 by default\n",
    "                                requires_grad=True) # <- can we update this value with gradient descent?))\n",
    "\n",
    "    # Forward defines the computation in the model\n",
    "    def reset_weights(self):\n",
    "        self.weights = nn.Parameter(torch.randn(1,\n",
    "                                                dtype=torch.float),\n",
    "                                    requires_grad=True)\n",
    "\n",
    "        self.bias = nn.Parameter(torch.randn(1,\n",
    "                                            dtype=torch.float),\n",
    "                                requires_grad=True)\n",
    "    def forward(self, x: torch.Tensor) -> torch.Tensor:\n",
    "        return self.weights * x + self.bias"
   ]
  },
  {
   "cell_type": "code",
   "execution_count": null,
   "id": "fc682ad8-ce5b-4aef-b89f-571035ce0598",
   "metadata": {
    "tags": []
   },
   "outputs": [],
   "source": [
    "model_0 = LinearRegressionModel()"
   ]
  },
  {
   "cell_type": "code",
   "execution_count": null,
   "id": "e657d98d-57cd-427b-a96f-f24fa9b34497",
   "metadata": {
    "tags": []
   },
   "outputs": [],
   "source": [
    "list(model_0.parameters())"
   ]
  },
  {
   "cell_type": "code",
   "execution_count": null,
   "id": "f02ca848-2f15-47db-aebf-4e54d4b3f38d",
   "metadata": {
    "tags": []
   },
   "outputs": [],
   "source": [
    "model_0.state_dict()"
   ]
  },
  {
   "cell_type": "code",
   "execution_count": null,
   "id": "d09b740b-c3a8-4c52-a79a-b41029db5aed",
   "metadata": {
    "tags": []
   },
   "outputs": [],
   "source": [
    "with torch.inference_mode(): \n",
    "    y_preds = model_0(X_test)"
   ]
  },
  {
   "cell_type": "code",
   "execution_count": null,
   "id": "ff83697a-2e16-473d-b2e5-21f1303e005d",
   "metadata": {
    "tags": []
   },
   "outputs": [],
   "source": [
    "y_preds"
   ]
  },
  {
   "cell_type": "code",
   "execution_count": null,
   "id": "2c61a0f4-5afb-40ce-9f86-09595c1fdf7c",
   "metadata": {
    "tags": []
   },
   "outputs": [],
   "source": [
    "y_preds.detach().numpy()"
   ]
  },
  {
   "cell_type": "code",
   "execution_count": null,
   "id": "8b412af5-a9e4-4edc-a24c-7d65909d5142",
   "metadata": {
    "tags": []
   },
   "outputs": [],
   "source": [
    "X_test"
   ]
  },
  {
   "cell_type": "code",
   "execution_count": null,
   "id": "9d7304ea-52c6-4aa3-963a-7c431979a8f9",
   "metadata": {
    "tags": []
   },
   "outputs": [],
   "source": [
    "plot_predictions(predictions=y_preds.detach().numpy())"
   ]
  },
  {
   "cell_type": "code",
   "execution_count": null,
   "id": "6d48e29b-7e6c-4cc7-816f-27dc020a0063",
   "metadata": {
    "tags": []
   },
   "outputs": [],
   "source": [
    "torch.device"
   ]
  },
  {
   "cell_type": "code",
   "execution_count": null,
   "id": "f7961d6e-c708-4ef7-b727-7806d040a795",
   "metadata": {
    "tags": []
   },
   "outputs": [],
   "source": [
    "# model_0_gpu = model_0.to(cuda0)"
   ]
  },
  {
   "cell_type": "code",
   "execution_count": null,
   "id": "41784c48-91ef-48f9-8b0f-1c05b4d3f813",
   "metadata": {
    "tags": []
   },
   "outputs": [],
   "source": [
    "#print(model_0_gpu.state_dict())"
   ]
  },
  {
   "cell_type": "code",
   "execution_count": null,
   "id": "26c12a5a-94ec-4c3a-bcd3-bd6db5323e4b",
   "metadata": {
    "tags": []
   },
   "outputs": [],
   "source": [
    "#print(model_0.state_dict())"
   ]
  },
  {
   "cell_type": "code",
   "execution_count": null,
   "id": "db9e5b4a-c384-4015-84de-ee96aa6c3215",
   "metadata": {
    "tags": []
   },
   "outputs": [],
   "source": [
    "#print(model_0.state_dict())"
   ]
  },
  {
   "cell_type": "code",
   "execution_count": null,
   "id": "67b23c7d-81b4-4310-8925-47f9fa0ee0db",
   "metadata": {
    "tags": []
   },
   "outputs": [],
   "source": [
    "#loss_fn = nn.L1Loss() # MAE loss is same as L1Loss\n",
    "\n",
    "# Create the optimizer\n",
    "#optimizer = torch.optim.SGD(params=model_0_gpu.parameters(), # parameters of target model to optimize\n",
    "#                            lr=0.01) "
   ]
  },
  {
   "cell_type": "markdown",
   "id": "3a058aab-7525-4deb-a0eb-9e1a0413fd0d",
   "metadata": {},
   "source": [
    "### Prepare data to learning"
   ]
  },
  {
   "cell_type": "code",
   "execution_count": null,
   "id": "94aff4e4-c9b6-4b00-89a6-fcda2735ef8c",
   "metadata": {
    "tags": []
   },
   "outputs": [],
   "source": [
    "# Set the number of epochs (how many times the model will pass over the training data)\n",
    "epochs = 100\n",
    "tX_train=from_numpy(X_train)\n",
    "ty_train=from_numpy(y_train)\n",
    "\n",
    "tX_test=from_numpy(X_test)\n",
    "ty_test=from_numpy(y_test)\n",
    "# Create empty loss lists to track values\n",
    "train_loss_values = []\n",
    "test_loss_values = []\n",
    "epoch_count = []"
   ]
  },
  {
   "cell_type": "code",
   "execution_count": null,
   "id": "b511c952-51d1-4e4c-a6ef-350e12ce294c",
   "metadata": {
    "tags": []
   },
   "outputs": [],
   "source": [
    "epochs = 100\n",
    "epochs = 100\n",
    "# Create empty loss lists to track values\n",
    "train_loss_values = []\n",
    "test_loss_values = []\n",
    "epoch_count = []\n",
    "#torch.manual_seed(42)\n",
    "def train(model=model_0,\n",
    "          X_test=tX_test,\n",
    "          X_train=tX_train,\n",
    "          y_train=ty_train,\n",
    "          y_test=ty_test,\n",
    "          epochs=epochs,\n",
    "          train_loss_values=train_loss_values,\n",
    "          test_loss_values=test_loss_values,\n",
    "          epoch_count=epoch_count\n",
    "         ):\n",
    "    loss_fn = nn.L1Loss()\n",
    "    optimizer = torch.optim.SGD(params=model_0.parameters(), # parameters of target model to optimize\n",
    "                            lr=0.01)\n",
    "    for epoch in range(epochs):\n",
    "        ### Training\n",
    "\n",
    "        # Put model in training mode (this is the default state of a model)\n",
    "        model.train()\n",
    "\n",
    "        # 1. Forward pass on train data using the forward() method inside \n",
    "        y_pred = model(X_train)\n",
    "        # print(y_pred)\n",
    "\n",
    "        # 2. Calculate the loss (how different are our models predictions to the ground truth)\n",
    "        loss = loss_fn(y_pred, y_train)\n",
    "\n",
    "        # 3. Zero grad of the optimizer\n",
    "        optimizer.zero_grad()\n",
    "\n",
    "        # 4. Loss backwards\n",
    "        loss.backward()\n",
    "\n",
    "        # 5. Progress the optimizer\n",
    "        optimizer.step()\n",
    "\n",
    "        ### Testing\n",
    "\n",
    "        # Put the model in evaluation mode\n",
    "        model.eval()\n",
    "\n",
    "        with torch.inference_mode():\n",
    "          # 1. Forward pass on test data\n",
    "          test_pred = model(X_test)\n",
    "\n",
    "          # 2. Caculate loss on test data\n",
    "          test_loss = loss_fn(test_pred, y_test.type(torch.float)) # predictions come in torch.float datatype, so comparisons need to be done with tensors of the same type\n",
    "\n",
    "          # Print out what's happening\n",
    "          if epoch % 10 == 0:\n",
    "                #epoch_count.append(epoch)\n",
    "                #curr_loss = loss.detach()\n",
    "                #curr_test_loss = test_loss.detach()\n",
    "                #if (curr_loss.device.type == 'cuda'):\n",
    "                #    curr_loss = curr_loss.cpu()\n",
    "                #    curr_test_loss = curr_test_loss.cpu()\n",
    "                #train_loss_values.append(curr_loss.numpy())\n",
    "                #test_loss_values.append(curr_test_loss.numpy())\n",
    "                print(f\"Epoch: {epoch} | MAE Train Loss: {loss} | MAE Test Loss: {test_loss} \")"
   ]
  },
  {
   "cell_type": "code",
   "execution_count": null,
   "id": "8185a1a9-9dbe-4f31-9e4d-e791ced58749",
   "metadata": {
    "tags": []
   },
   "outputs": [],
   "source": [
    "model_0.reset_weights()\n",
    "print(model_0.state_dict())\n",
    "%time train()\n",
    "print(model_0.state_dict())"
   ]
  },
  {
   "cell_type": "code",
   "execution_count": null,
   "id": "670ddc72-6184-48c9-bb76-2aa049713a37",
   "metadata": {
    "tags": []
   },
   "outputs": [],
   "source": [
    "plt.plot(epoch_count, train_loss_values, label=\"Train loss\")\n",
    "plt.plot(epoch_count, test_loss_values, label=\"Test loss\")\n",
    "plt.title(\"Training and test loss curves\")\n",
    "plt.ylabel(\"Loss\")\n",
    "plt.xlabel(\"Epochs\")\n",
    "plt.legend();"
   ]
  },
  {
   "cell_type": "code",
   "execution_count": null,
   "id": "0f23e5db-de28-40eb-9f3d-f740a648ae83",
   "metadata": {
    "tags": []
   },
   "outputs": [],
   "source": [
    "print(model_0.state_dict())\n",
    "with torch.inference_mode(): \n",
    "    y_preds = model_0(X_test)\n",
    "plot_predictions(predictions=y_preds.detach().numpy())"
   ]
  },
  {
   "cell_type": "code",
   "execution_count": null,
   "id": "46526db1-57bb-4d45-8ef6-bb54d6003357",
   "metadata": {
    "tags": []
   },
   "outputs": [],
   "source": [
    "model_0.reset_weights()\n",
    "model_0.to(cuda0)\n",
    "print(model_0.state_dict())\n",
    "params = {\n",
    "    'X_test':tX_test.to(cuda0),\n",
    "    'X_train':tX_train.to(cuda0),\n",
    "    'y_train':ty_train.to(cuda0),\n",
    "    'y_test':ty_test.to(cuda0)\n",
    "}\n",
    "%time train(**params)\n",
    "print(model_0.state_dict())"
   ]
  },
  {
   "cell_type": "code",
   "execution_count": null,
   "id": "da17f876-eeca-47d6-bb57-b008a165794c",
   "metadata": {
    "tags": []
   },
   "outputs": [],
   "source": [
    "for p in model_0.parameters():\n",
    "    print (p)"
   ]
  },
  {
   "cell_type": "code",
   "execution_count": null,
   "id": "9a5bc9b1-51c1-4853-8b80-c00b7cae0b0e",
   "metadata": {
    "tags": []
   },
   "outputs": [],
   "source": [
    "tgpuX_test = tX_test.to(cuda0)\n",
    "tgpuX_test.device.type"
   ]
  },
  {
   "cell_type": "code",
   "execution_count": null,
   "id": "ba5ef580-1734-4b68-baa9-bc5a2cbc6cdb",
   "metadata": {
    "tags": []
   },
   "outputs": [],
   "source": [
    "tgpuX_test.cpu().device.type"
   ]
  },
  {
   "cell_type": "markdown",
   "id": "533880ab-36e9-4fa5-aa57-3c313903728c",
   "metadata": {},
   "source": [
    "## Model Saving"
   ]
  },
  {
   "cell_type": "code",
   "execution_count": null,
   "id": "68b187ee-e793-4fb8-bb59-d79fe3af40f8",
   "metadata": {
    "tags": []
   },
   "outputs": [],
   "source": [
    "torch.save(obj=model_0.state_dict(), # only saving the state_dict() only saves the models learned parameters\n",
    "           f='model_0')"
   ]
  },
  {
   "cell_type": "code",
   "execution_count": null,
   "id": "beb8f93e-d5f2-456e-af87-0b0417a3da81",
   "metadata": {
    "tags": []
   },
   "outputs": [],
   "source": [
    "print(model_0.state_dict())"
   ]
  },
  {
   "cell_type": "code",
   "execution_count": null,
   "id": "f1ff34c4-bdcf-4a3d-b625-e199a1da01df",
   "metadata": {
    "tags": []
   },
   "outputs": [],
   "source": [
    "\n",
    "# Instantiate a new instance of our model (this will be instantiated with random weights)\n",
    "loaded_model_0 = LinearRegressionModel()\n",
    "\n",
    "# Load the state_dict of our saved model (this will update the new instance of our model with trained weights)\n",
    "loaded_model_0.load_state_dict(torch.load(f='model_0'))"
   ]
  },
  {
   "cell_type": "code",
   "execution_count": null,
   "id": "f6ca30bd-942b-40e0-ab20-c9b8e82a3062",
   "metadata": {
    "tags": []
   },
   "outputs": [],
   "source": [
    "print(loaded_model_0.state_dict())"
   ]
  },
  {
   "cell_type": "code",
   "execution_count": null,
   "id": "b164b3ec-bd84-4178-9fc1-f81fde9c53e6",
   "metadata": {
    "tags": []
   },
   "outputs": [],
   "source": [
    "with torch.inference_mode():\n",
    "    loaded_model_preds = loaded_model_0(tX_test)"
   ]
  },
  {
   "cell_type": "code",
   "execution_count": null,
   "id": "1e38a16a-083f-48fb-8dd2-04206450e6e5",
   "metadata": {
    "tags": []
   },
   "outputs": [],
   "source": [
    "loaded_model_preds[:5]"
   ]
  }
 ],
 "metadata": {
  "kernelspec": {
   "display_name": "Python 3 (ipykernel)",
   "language": "python",
   "name": "python3"
  },
  "language_info": {
   "codemirror_mode": {
    "name": "ipython",
    "version": 3
   },
   "file_extension": ".py",
   "mimetype": "text/x-python",
   "name": "python",
   "nbconvert_exporter": "python",
   "pygments_lexer": "ipython3",
   "version": "3.10.9"
  }
 },
 "nbformat": 4,
 "nbformat_minor": 5
}
